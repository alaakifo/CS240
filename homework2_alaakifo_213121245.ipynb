{
 "cells": [
  {
   "cell_type": "code",
   "execution_count": null,
   "metadata": {
    "collapsed": true
   },
   "outputs": [],
   "source": [
    "#Question 1\n",
    "%matplotlib inline\n",
    "import thinkstats2\n",
    "import nsfg\n",
    "import thinkplot\n",
    "pres = nsfg.ReadFemResp()\n",
    "firstMarriage = pres.fmar1age\n",
    "firstMarriage.value_counts().sort_index()\n",
    "\n",
    "firstMarriage_hist = thinkstats2.Hist(firstMarriage)\n",
    "thinkplot.Hist(firstMarriage_hist)\n",
    "thinkplot.Show(xlabel='Age',ylabel='Counts')\n"
   ]
  },
  {
   "cell_type": "code",
   "execution_count": null,
   "metadata": {
    "collapsed": true
   },
   "outputs": [],
   "source": [
    "\n",
    "#Question 2\n",
    "\n",
    "numberMarriage = pres.fmarno\n",
    "numberMarriage.value_counts().sort_index()\n",
    "\n",
    "numberMarriage_hist = thinkstats2.Hist(numberMarriage)\n",
    "thinkplot.Hist(numberMarriage_hist)\n",
    "thinkplot.Show(xlabel='Time of Married',ylabel='Counts')\n",
    "\n"
   ]
  },
  {
   "cell_type": "code",
   "execution_count": null,
   "metadata": {
    "collapsed": true
   },
   "outputs": [],
   "source": [
    "\n",
    "#Question 3\n",
    "totalIncome = pres.totincr\n",
    "totalIncome.value_counts().sort_index()\n",
    "\n",
    "\n",
    "\n",
    "totalIncome_hist = thinkstats2.Hist(totalIncome)\n",
    "thinkplot.Hist(totalIncome_hist)\n",
    "thinkplot.Show(xlabel='Value',ylabel='Total')\n",
    "\n"
   ]
  },
  {
   "cell_type": "code",
   "execution_count": null,
   "metadata": {
    "collapsed": true
   },
   "outputs": [],
   "source": [
    "\n",
    "#Question 4\n",
    "married,neverMarried = pres[pres.fmarno>=1],pres[pres.fmarno==0]\n",
    "married_hist = thinkstats2.Hist(married.totincr, label='Married')\n",
    "neverMarried_hist = thinkstats2.Hist(neverMarried.totincr, label='Never Married')\n",
    "thinkplot.PrePlot(2)\n",
    "thinkplot.Hist(married_hist, align='right', width=0.45)\n",
    "thinkplot.Hist(neverMarried_hist, align='left', width=0.45)\n",
    "thinkplot.Config(xlabel='Value', ylabel='Income')\n",
    "\n",
    "print (\"The Maximum value for respondents' total income is\", pres.totincr.max())\n",
    "print (\"The Minimum value for respondents' total income is\", pres.totincr.min())\n",
    "\n",
    "mean = pres.totincr.mean()\n",
    "var = pres.totincr.var()\n",
    "std = pres.totincr.std()\n",
    "\n",
    "print (\"The mean of the respondents' total income is\", mean)\n",
    "print (\"The variance respondents' total income is\", var)\n",
    "print (\"The standart deviation of respondents' total income is\", std)"
   ]
  }
 ],
 "metadata": {
  "kernelspec": {
   "display_name": "Python 2",
   "language": "python",
   "name": "python2"
  },
  "language_info": {
   "codemirror_mode": {
    "name": "ipython",
    "version": 2
   },
   "file_extension": ".py",
   "mimetype": "text/x-python",
   "name": "python",
   "nbconvert_exporter": "python",
   "pygments_lexer": "ipython2",
   "version": "2.7.13"
  }
 },
 "nbformat": 4,
 "nbformat_minor": 2
}
